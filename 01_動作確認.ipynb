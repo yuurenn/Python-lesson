{
  "nbformat": 4,
  "nbformat_minor": 0,
  "metadata": {
    "colab": {
      "provenance": [],
      "collapsed_sections": [],
      "include_colab_link": true
    },
    "kernelspec": {
      "name": "python3",
      "display_name": "Python 3"
    }
  },
  "cells": [
    {
      "cell_type": "markdown",
      "metadata": {
        "id": "view-in-github",
        "colab_type": "text"
      },
      "source": [
        "<a href=\"https://colab.research.google.com/github/yuurenn/Python-lesson/blob/main/01_%E5%8B%95%E4%BD%9C%E7%A2%BA%E8%AA%8D.ipynb\" target=\"_parent\"><img src=\"https://colab.research.google.com/assets/colab-badge.svg\" alt=\"Open In Colab\"/></a>"
      ]
    },
    {
      "cell_type": "markdown",
      "metadata": {
        "id": "78Kfq2-E8Gqs"
      },
      "source": [
        "# Google Colaboratory 動作確認テスト"
      ]
    },
    {
      "cell_type": "markdown",
      "metadata": {
        "id": "bQT5a-nv8Zli"
      },
      "source": [
        "以下のコードを各自実行してみてください．コードの左横の実行ボタン（▷）を押すと動作します．"
      ]
    },
    {
      "cell_type": "markdown",
      "metadata": {
        "id": "QKr4GnrD8ydi"
      },
      "source": [
        "## サンプルコード1"
      ]
    },
    {
      "cell_type": "code",
      "metadata": {
        "id": "JkD99k9W8eni",
        "outputId": "f2f2a580-079a-406d-d319-34a76a6c369b",
        "colab": {
          "base_uri": "https://localhost:8080/"
        }
      },
      "source": [
        "for i in range(0,10):\n",
        "  print(i)"
      ],
      "execution_count": 1,
      "outputs": [
        {
          "output_type": "stream",
          "name": "stdout",
          "text": [
            "0\n",
            "1\n",
            "2\n",
            "3\n",
            "4\n",
            "5\n",
            "6\n",
            "7\n",
            "8\n",
            "9\n"
          ]
        }
      ]
    },
    {
      "cell_type": "markdown",
      "metadata": {
        "id": "XaFxHCRG_FyY"
      },
      "source": [
        "##サンプルコード2"
      ]
    },
    {
      "cell_type": "code",
      "metadata": {
        "id": "ZRdzcuGU_Kko"
      },
      "source": [
        "if [3,2,3] == [2,3,3]:\n",
        "    print(\"True\")\n",
        "else:\n",
        "    print(\"False\")\n",
        "\n",
        "\n",
        "if {3,2,3} == {2,3,3}:\n",
        "    print(\"True\")\n",
        "else:\n",
        "    print(\"false\")\n",
        "\n",
        "\n",
        "x = [10, 20, 30, 40]\n",
        "print(x)\n",
        "print(x[1])\n"
      ],
      "execution_count": null,
      "outputs": []
    },
    {
      "cell_type": "markdown",
      "metadata": {
        "id": "ZBPmH0tf85Ho"
      },
      "source": [
        "## サンプルコード3"
      ]
    },
    {
      "cell_type": "code",
      "metadata": {
        "id": "DQPrhuU989L-"
      },
      "source": [
        "#関数定義1\n",
        "def sort(A):\n",
        "    for i in range(1,len(A)):\n",
        "        insert(A,i)\n",
        "\n",
        "#関数定義2\n",
        "def insert(A,i):\n",
        "    temp = A[i]\n",
        "    for j in range(i-1, -1, -1):\n",
        "        if temp < A[j]:\n",
        "            A[j+1] = A[j]\n",
        "        else:\n",
        "            A[j+1] = temp\n",
        "            break\n",
        "    else:\n",
        "        A[0] = temp\n",
        "\n",
        "\n",
        "#データ用意\n",
        "A = [2,9,5,7,4,1,8]\n",
        "\n",
        "print(\"ソート前：\", A)\n",
        "\n",
        "#ソート実行\n",
        "sort(A)\n",
        "\n",
        "print(\"ソート後：\", A)"
      ],
      "execution_count": null,
      "outputs": []
    },
    {
      "cell_type": "markdown",
      "metadata": {
        "id": "ON1dprRHkAU-"
      },
      "source": [
        "## グラフプロット"
      ]
    },
    {
      "cell_type": "code",
      "metadata": {
        "id": "Zjaor_J9kCkC"
      },
      "source": [
        "import numpy as np\n",
        "import matplotlib.pyplot as plt\n",
        "\n",
        "x = np.linspace(0,10,100)\n",
        "y = x*x\n",
        "plt.plot(x,y)\n",
        "plt.show()"
      ],
      "execution_count": null,
      "outputs": []
    },
    {
      "cell_type": "markdown",
      "source": [
        "## ちょっと遊んで見る"
      ],
      "metadata": {
        "id": "DvQQ0xQGbwUp"
      }
    },
    {
      "cell_type": "markdown",
      "source": [
        "### ColabTurtleのインストール\n",
        "\n",
        "最後に「Successfully installed ColabTurtle-2.1.0」とでればOK"
      ],
      "metadata": {
        "id": "eV-Z3jmZb5IL"
      }
    },
    {
      "cell_type": "code",
      "source": [
        "!pip install ColabTurtle"
      ],
      "metadata": {
        "id": "DM4uPSzPb2ET"
      },
      "execution_count": null,
      "outputs": []
    },
    {
      "cell_type": "markdown",
      "source": [
        "カメをコマンドで制御して，図形を描く簡単なプログラムです．例えば，以下のようなコマンドが使えます．\n",
        "\n",
        "*   turtle.forward(d)：カメが向いている方向に距離d進む\n",
        "*   turtle.right(a)：カメがa度右に回転\n",
        "*   turtle.left(a)：カメがa度左に回転\n",
        "*   turtle.goto(x, y)：カメが座標(x,y)に移動\n",
        "*   turtle.pendown()：ペン先を紙につける．カメの移動で軌跡が描かれる\n",
        "*   turtle.penup()：ペン先を紙から離す．\n",
        "*   turtle.pencolor(c)：軌跡の色をcにする\n",
        "*   turtle.reset()：初期状態に戻る．\n",
        "\n",
        "\n",
        "詳細なリファレンスは以下を参照．\n",
        "https://docs.python.org/ja/3/library/turtle.html"
      ],
      "metadata": {
        "id": "eD9eU_YocQhB"
      }
    },
    {
      "cell_type": "code",
      "source": [
        "import ColabTurtle.Turtle as turtle\n",
        "turtle.initializeTurtle()\n",
        "\n",
        "turtle.pendown()\n",
        "for i in range(0,5):\n",
        "    turtle.forward(100)\n",
        "    turtle.right(144)\n",
        "turtle.penup()"
      ],
      "metadata": {
        "id": "1u3QkJ7Hb3C9"
      },
      "execution_count": null,
      "outputs": []
    },
    {
      "cell_type": "markdown",
      "source": [
        "### いろんな図形を書いてみよう"
      ],
      "metadata": {
        "id": "XpIKqYy-dYg3"
      }
    },
    {
      "cell_type": "code",
      "source": [
        "import ColabTurtle.Turtle as turtle\n",
        "turtle.initializeTurtle()\n",
        "\n"
      ],
      "metadata": {
        "id": "0f9hyqgydXwT"
      },
      "execution_count": null,
      "outputs": []
    }
  ]
}