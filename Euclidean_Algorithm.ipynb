{
  "cells": [
    {
      "cell_type": "markdown",
      "metadata": {
        "colab_type": "text",
        "id": "view-in-github"
      },
      "source": [
        "<a href=\"https://colab.research.google.com/github/yuurenn/Python-lesson/blob/main/Euclidean_Algorithm.ipynb\" target=\"_parent\"><img src=\"https://colab.research.google.com/assets/colab-badge.svg\" alt=\"Open In Colab\"/></a>"
      ]
    },
    {
      "cell_type": "code",
      "execution_count": null,
      "metadata": {
        "colab": {
          "base_uri": "https://localhost:8080/"
        },
        "id": "zosmlt_HmiN4",
        "outputId": "888a4721-8845-49b3-b6ec-578b9c8b00d8"
      },
      "outputs": [
        {
          "ename": "",
          "evalue": "",
          "output_type": "error",
          "traceback": [
            "\u001b[1;31mFailed to start the Kernel. \n",
            "Unable to start Kernel 'Python 3.9.13' due to connection timeout. \n",
            "View Jupyter <a href='command:jupyter.viewOutput'>log</a> for further details."
          ]
        }
      ],
      "source": [
        "#出力する関数作成したかった\n",
        "\n",
        "a_list=[]\n",
        "b_list=[]\n",
        "c_list=[]\n",
        "d_list=[]\n",
        "print(\"ユークリッドの互除法をしたい二つの数字を入力\")\n",
        "a=int(input(\"a:\"))\n",
        "b=int(input(\"b:\"))\n",
        "j=a#一次不定方程式で利用\n",
        "i=0\n",
        "result = divmod(a, b)\n",
        "# print(result[0], result[1])\n",
        "c=int(result[0])\n",
        "d=int(result[1])\n",
        "#sequence=[a,b,c,d]\n",
        "print(str(a)+\"=\"+str(b)+\"*\"+str(c)+\"+\"+str(d))\n",
        "a_list.append(str(a))\n",
        "b_list.append(str(b))\n",
        "c_list.append(str(c))\n",
        "d_list.append(str(d))\n",
        "# 繰り返す\n",
        "while d != 0:\n",
        "    a=b\n",
        "    b=d \n",
        "    result=divmod(a, b)\n",
        "    c=int(result[0])\n",
        "    d=int(result[1])\n",
        "    print(str(a)+\"=\"+str(b)+\"*\"+str(c)+\"+\"+str(d))\n",
        "    a_list.append(str(a))\n",
        "    b_list.append(str(b))\n",
        "    c_list.append(str(c))\n",
        "    d_list.append(str(d))\n",
        "    i=i+1\n",
        "print(a_list)\n",
        "print(b_list)\n",
        "print(c_list)\n",
        "print(d_list)\n",
        "print(i)\n",
        "print(\"最大公約数\",b)\n",
        "# 一次不定方程式\n",
        "print(d_list[i-1]+\"=\"+a_list[i-1]+\"-\"+b_list[i-1]+\"*\"+c_list[i-1])\n",
        "while i!=0:\n",
        "    print(d_list[i]+\"=\"+a_list[i]+\"-\"+b_list[i]+\"*\"+c_list[i])\n",
        "    i=i-1\n",
        "\n"
      ]
    }
  ],
  "metadata": {
    "colab": {
      "authorship_tag": "ABX9TyM1hDDI9laACyDmj7EgbIWi",
      "collapsed_sections": [],
      "include_colab_link": true,
      "name": " Euclidean Algorithm",
      "provenance": []
    },
    "kernelspec": {
      "display_name": "Python 3.9.13 64-bit (system)",
      "language": "python",
      "name": "python3"
    },
    "language_info": {
      "name": "python",
      "version": "3.9.13"
    },
    "vscode": {
      "interpreter": {
        "hash": "2a8dfe095fce2b5e88c64a2c3ee084c8e0e0d70b23e7b95b1cfb538be294c5c8"
      }
    }
  },
  "nbformat": 4,
  "nbformat_minor": 0
}
