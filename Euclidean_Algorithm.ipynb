{
  "nbformat": 4,
  "nbformat_minor": 0,
  "metadata": {
    "colab": {
      "name": " Euclidean Algorithm",
      "provenance": [],
      "collapsed_sections": [],
      "authorship_tag": "ABX9TyM1hDDI9laACyDmj7EgbIWi",
      "include_colab_link": true
    },
    "kernelspec": {
      "name": "python3",
      "display_name": "Python 3"
    },
    "language_info": {
      "name": "python"
    }
  },
  "cells": [
    {
      "cell_type": "markdown",
      "metadata": {
        "id": "view-in-github",
        "colab_type": "text"
      },
      "source": [
        "<a href=\"https://colab.research.google.com/github/yuurenn/Python-lesson/blob/main/Euclidean_Algorithm.ipynb\" target=\"_parent\"><img src=\"https://colab.research.google.com/assets/colab-badge.svg\" alt=\"Open In Colab\"/></a>"
      ]
    },
    {
      "cell_type": "code",
      "execution_count": null,
      "metadata": {
        "colab": {
          "base_uri": "https://localhost:8080/"
        },
        "id": "zosmlt_HmiN4",
        "outputId": "888a4721-8845-49b3-b6ec-578b9c8b00d8"
      },
      "outputs": [
        {
          "output_type": "stream",
          "name": "stdout",
          "text": [
            "ユークリッドの互除法をしたい二つの数字を入力\n",
            "a:120\n",
            "b:77\n",
            "120=77*1+43\n",
            "77=43*1+34\n",
            "43=34*1+9\n",
            "34=9*3+7\n",
            "9=7*1+2\n",
            "7=2*3+1\n",
            "2=1*2+0\n",
            "['120', '77', '43', '34', '9', '7', '2']\n",
            "['77', '43', '34', '9', '7', '2', '1']\n",
            "['1', '1', '1', '3', '1', '3', '2']\n",
            "['43', '34', '9', '7', '2', '1', '0']\n",
            "6\n",
            "最大公約数 1\n",
            "1=7-2+3\n"
          ]
        }
      ],
      "source": [
        "#出力する関数作成したかった\n",
        "\n",
        "a_list=[]\n",
        "b_list=[]\n",
        "c_list=[]\n",
        "d_list=[]\n",
        "print(\"ユークリッドの互除法をしたい二つの数字を入力\")\n",
        "a=int(input(\"a:\"))\n",
        "b=int(input(\"b:\"))\n",
        "j=a#一次不定方程式で利用\n",
        "i=0\n",
        "result = divmod(a, b)\n",
        "# print(result[0], result[1])\n",
        "c=int(result[0])\n",
        "d=int(result[1])\n",
        "#sequence=[a,b,c,d]\n",
        "print(str(a)+\"=\"+str(b)+\"*\"+str(c)+\"+\"+str(d))\n",
        "a_list.append(str(a))\n",
        "b_list.append(str(b))\n",
        "c_list.append(str(c))\n",
        "d_list.append(str(d))\n",
        "# 繰り返す\n",
        "while d != 0:\n",
        "    a=b\n",
        "    b=d \n",
        "    result=divmod(a, b)\n",
        "    c=int(result[0])\n",
        "    d=int(result[1])\n",
        "    print(str(a)+\"=\"+str(b)+\"*\"+str(c)+\"+\"+str(d))\n",
        "    a_list.append(str(a))\n",
        "    b_list.append(str(b))\n",
        "    c_list.append(str(c))\n",
        "    d_list.append(str(d))\n",
        "    i=i+1\n",
        "print(a_list)\n",
        "print(b_list)\n",
        "print(c_list)\n",
        "print(d_list)\n",
        "print(i)\n",
        "print(\"最大公約数\",b)\n",
        "# 一次不定方程式\n",
        "print(d_list[i-1]+\"=\"+a_list[i-1]+\"-\"+b_list[i-1]+\"*\"+c_list[i-1])\n",
        "while i!=0:\n",
        "    print(d_list[i]+\"=\"+a_list[i]+\"-\"+b_list[i]+\"*\"+c_list[i])\n",
        "    i=i-1\n",
        "\n"
      ]
    }
  ]
}