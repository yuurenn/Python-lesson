{
  "nbformat": 4,
  "nbformat_minor": 0,
  "metadata": {
    "colab": {
      "name": "Untitled10.ipynb",
      "provenance": [],
      "toc_visible": true,
      "authorship_tag": "ABX9TyOLP/C7WMn5hzRhzWElpq7S",
      "include_colab_link": true
    },
    "kernelspec": {
      "name": "python3",
      "display_name": "Python 3"
    },
    "language_info": {
      "name": "python"
    }
  },
  "cells": [
    {
      "cell_type": "markdown",
      "metadata": {
        "id": "view-in-github",
        "colab_type": "text"
      },
      "source": [
        "<a href=\"https://colab.research.google.com/github/yuurenn/Python-lesson/blob/main/Untitled10.ipynb\" target=\"_parent\"><img src=\"https://colab.research.google.com/assets/colab-badge.svg\" alt=\"Open In Colab\"/></a>"
      ]
    },
    {
      "cell_type": "code",
      "execution_count": 1,
      "metadata": {
        "colab": {
          "base_uri": "https://localhost:8080/"
        },
        "id": "WTr3LZiGE0eS",
        "outputId": "443e2397-c37a-4b2c-8701-0871683afe9e"
      },
      "outputs": [
        {
          "output_type": "stream",
          "name": "stdout",
          "text": [
            "171x≡1(mod287)\n",
            "x≡47(mod287)\n",
            "[[0. 0. 0.]\n",
            " [0. 0. 0.]\n",
            " [0. 0. 0.]]\n",
            "[[0. 0. 0.]\n",
            " [0. 1. 0.]\n",
            " [0. 0. 0.]]\n"
          ]
        }
      ],
      "source": [
        "# ax≡1(mod N)\n",
        "# ax-1≡0(mod N)\n",
        "# aとNの最大公約数を求める\n",
        "from math import gcd\n",
        "\n",
        "import numpy as np\n",
        "\n",
        "a=171\n",
        "n=287\n",
        "print(str(a)+\"x≡1(mod\"+str(n)+\")\")\n",
        "d=gcd(a,n)\n",
        "if d==1:\n",
        "    for num in range(n):\n",
        "        if (a*num)%n==1:\n",
        "            break\n",
        "    print(\"x≡\"+str(num)+\"(mod\"+str(n)+\")\")\n",
        "\n",
        "else:\n",
        "    print(\"解なし\")\n",
        "\n",
        "list3 = np.zeros((3, 3))\n",
        "print(list3)\n",
        "# [[ 0.  0.  0.]\n",
        "#  [ 0.  0.  0.]\n",
        "#  [ 0.  0.  0.]]\n",
        "\n",
        "\n",
        "list3[1][1] = 1\n",
        "print(list3)\n",
        "# [\n",
        "#     [0. 0. 0.],\n",
        "#     [0. 1. 0.],\n",
        "#     [0. 0. 0.]\n",
        "#"
      ]
    }
  ]
}