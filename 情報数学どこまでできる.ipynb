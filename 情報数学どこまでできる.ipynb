{
  "nbformat": 4,
  "nbformat_minor": 0,
  "metadata": {
    "colab": {
      "name": "情報数学どこまでできる.ipynb",
      "provenance": [],
      "authorship_tag": "ABX9TyNRtoCwhooAbOeuOeXxXgrh",
      "include_colab_link": true
    },
    "kernelspec": {
      "name": "python3",
      "display_name": "Python 3"
    },
    "language_info": {
      "name": "python"
    }
  },
  "cells": [
    {
      "cell_type": "markdown",
      "metadata": {
        "id": "view-in-github",
        "colab_type": "text"
      },
      "source": [
        "<a href=\"https://colab.research.google.com/github/yuurenn/Python-lesson/blob/main/%E6%83%85%E5%A0%B1%E6%95%B0%E5%AD%A6%E3%81%A9%E3%81%93%E3%81%BE%E3%81%A7%E3%81%A7%E3%81%8D%E3%82%8B.ipynb\" target=\"_parent\"><img src=\"https://colab.research.google.com/assets/colab-badge.svg\" alt=\"Open In Colab\"/></a>"
      ]
    },
    {
      "cell_type": "code",
      "execution_count": 4,
      "metadata": {
        "colab": {
          "base_uri": "https://localhost:8080/"
        },
        "id": "rBCz8Pc5aJkl",
        "outputId": "801fcad3-5631-490e-e510-03e32b1a0b4f"
      },
      "outputs": [
        {
          "output_type": "stream",
          "name": "stdout",
          "text": [
            "72 2.0 18 6 0\n"
          ]
        }
      ],
      "source": [
        "a=12\n",
        "b=6\n",
        "print(a*b,a/b,a+b,a-b,a%b)"
      ]
    },
    {
      "cell_type": "code",
      "source": [
        "#出力する関数作成したかった\n",
        "\n",
        "from math import gcd\n",
        "\n",
        "\n",
        "\n",
        "a_list=[]\n",
        "b_list=[]\n",
        "c_list=[]\n",
        "d_list=[]\n",
        "print(\"ユークリッドの互除法をしたい二つの数字を入力\")\n",
        "a=int(input(\"a:\"))\n",
        "b=int(input(\"b:\"))\n",
        "# a=155\n",
        "# b=42\n",
        "j=a#一次不定方程式で利用\n",
        "i=0\n",
        "result = divmod(a, b)\n",
        "# print(result[0], result[1])\n",
        "c=int(result[0])\n",
        "d=int(result[1])\n",
        "#sequence=[a,b,c,d]\n",
        "print(str(a)+\"=\"+str(b)+\"*\"+str(c)+\"+\"+str(d))\n",
        "a_list.append(a)\n",
        "b_list.append(b)\n",
        "c_list.append(c)\n",
        "d_list.append(d)\n",
        "# 繰り返す\n",
        "while d != 0:\n",
        "    a=b\n",
        "    b=d \n",
        "    result=divmod(a, b)\n",
        "    c=int(result[0])\n",
        "    d=int(result[1])\n",
        "    print(str(a)+\"=\"+str(b)+\"*\"+str(c)+\"+\"+str(d))\n",
        "    a_list.append(a)\n",
        "    b_list.append(b)\n",
        "    c_list.append(c)\n",
        "    d_list.append(d)\n",
        "    i=i+1\n",
        "print(a_list)\n",
        "print(b_list)\n",
        "print(c_list)\n",
        "print(d_list)\n",
        "print(i)\n",
        "s=i\n",
        "print(\"最大公約数\",b)\n",
        "\n",
        "\n"
      ],
      "metadata": {
        "colab": {
          "base_uri": "https://localhost:8080/"
        },
        "id": "XiOeazpvbINE",
        "outputId": "5fcf615d-cb6d-48b8-a983-60d4265d04a3"
      },
      "execution_count": 5,
      "outputs": [
        {
          "output_type": "stream",
          "name": "stdout",
          "text": [
            "ユークリッドの互除法をしたい二つの数字を入力\n",
            "a:120\n",
            "b:77\n",
            "120=77*1+43\n",
            "77=43*1+34\n",
            "43=34*1+9\n",
            "34=9*3+7\n",
            "9=7*1+2\n",
            "7=2*3+1\n",
            "2=1*2+0\n",
            "[120, 77, 43, 34, 9, 7, 2]\n",
            "[77, 43, 34, 9, 7, 2, 1]\n",
            "[1, 1, 1, 3, 1, 3, 2]\n",
            "[43, 34, 9, 7, 2, 1, 0]\n",
            "6\n",
            "最大公約数 1\n"
          ]
        }
      ]
    },
    {
      "cell_type": "code",
      "source": [
        "q=int(input(\"a:\"))\n",
        "p=int(input(\"b:\"))\n",
        "def xgcd(a,b):\n",
        "    prevx, nextx = 1, 0\n",
        "    prevy, nexty = 0, 1\n",
        "    while b:\n",
        "        quotient = a//b\n",
        "        nextx, prevx = prevx - quotient * nextx, nextx\n",
        "        nexty, prevy = prevy - quotient * nexty, nexty\n",
        "        a, b = b, a % b\n",
        "        # print(a,b)\n",
        "    return prevx, prevy,a\n",
        "\n",
        "print(str(q)+\"x+\"+str(p)+\"y=1\")\n",
        "xg=(xgcd(q,p))\n",
        "print(\"x=\"+str(xg[0]))\n",
        "print(\"y=\"+str(xg[1]))"
      ],
      "metadata": {
        "colab": {
          "base_uri": "https://localhost:8080/"
        },
        "id": "t48SCwhzbk0K",
        "outputId": "0b103783-cfd4-47f4-f743-0dc4c9cafca3"
      },
      "execution_count": 6,
      "outputs": [
        {
          "output_type": "stream",
          "name": "stdout",
          "text": [
            "a:120\n",
            "b:77\n",
            "120x+77y=1\n",
            "x=-34\n",
            "y=53\n"
          ]
        }
      ]
    },
    {
      "cell_type": "code",
      "source": [
        "# ax≡1(mod N)\n",
        "# ax-1≡0(mod N)\n",
        "# aとNの最大公約数を求める\n",
        "from math import gcd\n",
        "from operator import mod\n",
        "\n",
        "# import numpy as np\n",
        "print(\"ax≡1(mod n)\")\n",
        "a=int(input(\"a:\"))\n",
        "n=int(input(\"n:\"))\n",
        "print(str(a)+\"x≡1(mod\"+str(n)+\")\")\n",
        "d=gcd(a,n)\n",
        "if d==1:\n",
        "    for num in range(n):\n",
        "        if (a*num)%n==1:\n",
        "            break\n",
        "    print(\"x≡\"+str(num)+\"(mod\"+str(n)+\")\")\n",
        "\n",
        "else:\n",
        "    print(\"解なし\")\n",
        "\n",
        "a=19814**17255\n",
        "print(mod(a,89711))"
      ],
      "metadata": {
        "colab": {
          "base_uri": "https://localhost:8080/"
        },
        "id": "h5ODHJQabs8i",
        "outputId": "f9b8866e-83bd-475f-c830-0aef6c9164ab"
      },
      "execution_count": 8,
      "outputs": [
        {
          "output_type": "stream",
          "name": "stdout",
          "text": [
            "ax≡1(mod n)\n",
            "a:120\n",
            "n:77\n",
            "120x≡1(mod77)\n",
            "x≡43(mod77)\n",
            "2398\n"
          ]
        }
      ]
    }
  ]
}